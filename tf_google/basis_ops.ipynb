{
 "cells": [
  {
   "cell_type": "code",
   "execution_count": 5,
   "metadata": {},
   "outputs": [
    {
     "data": {
      "text/plain": [
       "True"
      ]
     },
     "execution_count": 5,
     "metadata": {},
     "output_type": "execute_result"
    }
   ],
   "source": [
    "import tensorflow as tf\n",
    "a = tf.constant([1., 2.], name='a')\n",
    "b = tf.constant([2., 3.], name='b')\n",
    "result = a + b\n",
    "a.graph is tf.get_default_graph()"
   ]
  },
  {
   "cell_type": "code",
   "execution_count": 27,
   "metadata": {},
   "outputs": [
    {
     "data": {
      "text/plain": [
       "\"    \\nwith tf.Session(graph = g1) as sess:\\n    tf.initialize_all_variables().run()\\n    with tf.variable_scope('', reuse=True):\\n        print(sess.run(tf.get_variable('v')))\\n\""
      ]
     },
     "execution_count": 27,
     "metadata": {},
     "output_type": "execute_result"
    }
   ],
   "source": [
    "# generate the new graph\n",
    "g1 = tf.Graph()\n",
    "with g1.as_default():\n",
    "    v = tf.get_variable('v', shape=[1], initializer=tf.zeros_initializer())\n",
    "\n",
    "\n",
    "g2 = tf.Graph()\n",
    "with g2.as_default():\n",
    "    v = tf.get_variable('v', shape=[1], initializer=tf.ones_initializer())\n",
    "'''    \n",
    "with tf.Session(graph = g1) as sess:\n",
    "    tf.initialize_all_variables().run()\n",
    "    with tf.variable_scope('', reuse=True):\n",
    "        print(sess.run(tf.get_variable('v')))\n",
    "'''"
   ]
  },
  {
   "cell_type": "code",
   "execution_count": 29,
   "metadata": {},
   "outputs": [],
   "source": [
    "# session\n",
    "# use ConfigProto protocol Buffer to configure the session\n",
    "# 通过ConfigProt可以配置类似并行的线程数，GPU分配策略，运算超时时间等参数，最为常用的是下面两个，前者控制在一定条件下\n",
    "# 将GPU上的运算可以放到CPU上;后者是关于日志\n",
    "config = tf.ConfigProto(allow_soft_placement=True, log_device_placement=True)"
   ]
  },
  {
   "cell_type": "code",
   "execution_count": 33,
   "metadata": {},
   "outputs": [],
   "source": [
    "# Variable\n",
    "'''\n",
    "1. used to store and update the params in the neural network\n",
    "2. initialize the variable, tf.initialized_all_variables() \n",
    "3. all variables are automatically added into the collection named GraphKeys.VARIABLES and we can get all variables by \n",
    "    tf.all_variables\n",
    "4. trainable=True的变量会被加入到GraphKeys.TRAINABLE_VARIABLES中，可以通过tf.trainable_variables得到所有的变量\n",
    "5. validate_shape=False表明这个variable的shape可以被改变\n",
    "'''\n",
    "w = tf.Variable(tf.random_normal([2,3], stddev=2), name='weights')\n",
    "w1 = tf.Variable(w.initialized_value() * 2.0)\n",
    "# w2 = tf.Variable(weights.initialized_value() * 2.0) # NameError: name 'weights' is not defined"
   ]
  },
  {
   "cell_type": "code",
   "execution_count": null,
   "metadata": {},
   "outputs": [],
   "source": [
    ""
   ]
  }
 ],
 "metadata": {
  "kernelspec": {
   "display_name": "Python 3",
   "language": "python",
   "name": "python3"
  },
  "language_info": {
   "codemirror_mode": {
    "name": "ipython",
    "version": 3.0
   },
   "file_extension": ".py",
   "mimetype": "text/x-python",
   "name": "python",
   "nbconvert_exporter": "python",
   "pygments_lexer": "ipython3",
   "version": "3.5.2"
  }
 },
 "nbformat": 4,
 "nbformat_minor": 0
}